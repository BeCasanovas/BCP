{
 "cells": [
  {
   "cell_type": "markdown",
   "id": "0",
   "metadata": {},
   "source": [
    "importando as bibliotecas"
   ]
  },
  {
   "cell_type": "code",
   "execution_count": null,
   "id": "1",
   "metadata": {},
   "outputs": [],
   "source": [
    "import pandas as pd\n",
    "from unidecode import unidecode"
   ]
  },
  {
   "cell_type": "markdown",
   "id": "2",
   "metadata": {},
   "source": [
    "Definido funções para reutilização"
   ]
  },
  {
   "cell_type": "code",
   "execution_count": null,
   "id": "3",
   "metadata": {},
   "outputs": [],
   "source": [
    "def normalizar_colunas(df):\n",
    "    df.columns = df.columns.str.lower().str.replace(' ', '_')\n",
    "    df.columns = df.columns.str.replace('¢', 'o').str.replace('£', 'u')\n",
    "    df.columns = [unidecode(col) for col in df.columns]"
   ]
  },
  {
   "cell_type": "markdown",
   "id": "4",
   "metadata": {},
   "source": [
    "importando os arquivos"
   ]
  },
  {
   "cell_type": "code",
   "execution_count": null,
   "id": "5",
   "metadata": {},
   "outputs": [],
   "source": [
    "registros = pd.read_csv('files/Registros_BCPSA4.csv', sep=',', encoding='latin1')\n",
    "negociacoes = pd.read_csv('files/Negociacoes_BCPSA4.xls', sep='\\t', encoding='latin1', skiprows=2)"
   ]
  },
  {
   "cell_type": "markdown",
   "id": "6",
   "metadata": {},
   "source": [
    "filtrando colunas de interesse"
   ]
  },
  {
   "cell_type": "code",
   "execution_count": null,
   "id": "7",
   "metadata": {},
   "outputs": [],
   "source": [
    "colunas = ['data', 'emissor', 'quantidade','numero_de_negocios']\n",
    "\n",
    "normalizar_colunas(registros)\n",
    "normalizar_colunas(negociacoes)\n",
    "\n",
    "registros = registros[colunas]\n",
    "negociacoes = negociacoes[colunas]\n",
    "\n",
    "print(registros)\n",
    "print(negociacoes)"
   ]
  },
  {
   "cell_type": "markdown",
   "id": "8",
   "metadata": {},
   "source": [
    "verificando as divergências"
   ]
  },
  {
   "cell_type": "code",
   "execution_count": null,
   "id": "9",
   "metadata": {},
   "outputs": [],
   "source": [
    "divergencias = []\n",
    "datas = pd.unique(registros['data'].tolist() + negociacoes['data'].tolist())\n",
    "\n",
    "for data in datas:\n",
    "    try:\n",
    "        reg_row = registros[registros['data'] == data].iloc[0]\n",
    "        neg_row = negociacoes[negociacoes['data'] == data].iloc[0]\n",
    "        col_div = [col for col in registros.columns if reg_row[col] != neg_row[col]]\n",
    "        if col_div:\n",
    "            divergencias.append({\n",
    "                'data': data,\n",
    "                'registros': reg_row.to_dict(),\n",
    "                'negociacoes': neg_row.to_dict(),\n",
    "                'colunas_divergentes': ','.join(col_div)\n",
    "            })\n",
    "    except Exception:\n",
    "        divergencias.append({\n",
    "            'data': data,\n",
    "            'registros': data in registros['data'].values,\n",
    "            'negociacoes': data in negociacoes['data'].values,\n",
    "            'colunas_divergentes': ''\n",
    "        })\n",
    "\n",
    "divergencias_df = pd.DataFrame(divergencias)\n",
    "print(divergencias_df)\n",
    "divergencias_df.to_csv('divergencias.csv', sep=';', index=False)"
   ]
  }
 ],
 "metadata": {
  "kernelspec": {
   "display_name": "Python 3",
   "language": "python",
   "name": "python3"
  },
  "language_info": {
   "codemirror_mode": {
    "name": "ipython",
    "version": 3
   },
   "file_extension": ".py",
   "mimetype": "text/x-python",
   "name": "python",
   "nbconvert_exporter": "python",
   "pygments_lexer": "ipython3",
   "version": "3.12.5"
  }
 },
 "nbformat": 4,
 "nbformat_minor": 5
}
